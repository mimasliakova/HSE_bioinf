{
 "cells": [
  {
   "cell_type": "code",
   "execution_count": 1,
   "metadata": {},
   "outputs": [],
   "source": [
    "import numpy as np\n",
    "import pandas as pd\n",
    "import math\n",
    "from sklearn.neighbors import KNeighborsClassifier\n",
    "from sklearn.model_selection import train_test_split\n",
    "from sklearn.metrics import accuracy_score"
   ]
  },
  {
   "cell_type": "markdown",
   "metadata": {},
   "source": [
    "## Problem 1"
   ]
  },
  {
   "cell_type": "code",
   "execution_count": 2,
   "metadata": {},
   "outputs": [],
   "source": [
    "data = pd.read_csv('BRCA_pam50.tsv', sep='\\t', index_col=0)"
   ]
  },
  {
   "cell_type": "code",
   "execution_count": 3,
   "metadata": {},
   "outputs": [],
   "source": [
    "X = data.iloc[:, :-1].to_numpy()\n",
    "y = data['Subtype'].to_numpy()\n",
    "X_train, X_test, y_train, y_test = train_test_split(X, y, stratify=y,\n",
    "                                    test_size=0.2, random_state=17)"
   ]
  },
  {
   "cell_type": "code",
   "execution_count": 4,
   "metadata": {},
   "outputs": [
    {
     "name": "stdout",
     "output_type": "stream",
     "text": [
      "0.8743169398907104\n"
     ]
    }
   ],
   "source": [
    "model = KNeighborsClassifier(n_neighbors=1, p=2)\n",
    "model.fit(X_train,y_train)\n",
    "y_pred = model.predict(X_test)\n",
    "#print(y_pred == y_test)\n",
    "print(accuracy_score(y_test, y_pred))"
   ]
  },
  {
   "cell_type": "markdown",
   "metadata": {},
   "source": [
    "## Problem 2"
   ]
  },
  {
   "cell_type": "code",
   "execution_count": 5,
   "metadata": {},
   "outputs": [],
   "source": [
    "def class_accuracy(test, pred):\n",
    "\n",
    "\n",
    "    subtypes = data['Subtype'].unique()\n",
    "    subtypes = list(subtypes)\n",
    "    for subtype in subtypes:\n",
    "        st_test = test.count(subtype)\n",
    "        st_pred = pred.count(subtype)\n",
    "        if st_pred/st_test < 1:\n",
    "            st_accuracy = st_pred/st_test\n",
    "        else:\n",
    "            st_accuracy = 1 - (st_pred/st_test-1)\n",
    "        print(subtype, ':', st_test, '(test)', st_pred, '(pred)')\n",
    "        print(subtype, st_accuracy)"
   ]
  },
  {
   "cell_type": "code",
   "execution_count": 6,
   "metadata": {},
   "outputs": [
    {
     "name": "stdout",
     "output_type": "stream",
     "text": [
      "Normal-like : 4 (test) 1 (pred)\n",
      "Normal-like 0.25\n",
      "Luminal A : 82 (test) 91 (pred)\n",
      "Luminal A 0.8902439024390243\n",
      "Luminal B : 37 (test) 31 (pred)\n",
      "Luminal B 0.8378378378378378\n",
      "Triple-negative : 27 (test) 27 (pred)\n",
      "Triple-negative 1.0\n",
      "HER2-enriched : 13 (test) 12 (pred)\n",
      "HER2-enriched 0.9230769230769231\n",
      "Healthy : 20 (test) 21 (pred)\n",
      "Healthy 0.95\n"
     ]
    }
   ],
   "source": [
    "y_test = list(y_test)\n",
    "y_pred = list(y_pred)\n",
    "class_accuracy(y_test, y_pred)"
   ]
  },
  {
   "cell_type": "markdown",
   "metadata": {},
   "source": [
    "Результаты оценки качества по классам сильно отличаются между собой из-за разницы в количестве объектов в каждом классе (например, в классе Normal-like всего 4 объекта и правильно определен 1 - получается низкое качество; в то же время у класса Luminal B правильно опеределены 31 из 37 объектов (по количеству неправильных объектов больше, но из-за того, что класс сожержит много объектов, качество намного выше, чем у Normal-like). "
   ]
  },
  {
   "cell_type": "markdown",
   "metadata": {},
   "source": [
    "## Problem 3"
   ]
  },
  {
   "cell_type": "code",
   "execution_count": 7,
   "metadata": {},
   "outputs": [],
   "source": [
    "from sklearn.neighbors import NearestCentroid"
   ]
  },
  {
   "cell_type": "code",
   "execution_count": 8,
   "metadata": {},
   "outputs": [
    {
     "name": "stdout",
     "output_type": "stream",
     "text": [
      "0.8907103825136612\n",
      "Normal-like : 4 (test) 9 (pred)\n",
      "Normal-like -0.25\n",
      "Luminal A : 82 (test) 70 (pred)\n",
      "Luminal A 0.8536585365853658\n",
      "Luminal B : 37 (test) 44 (pred)\n",
      "Luminal B 0.8108108108108107\n",
      "Triple-negative : 27 (test) 27 (pred)\n",
      "Triple-negative 1.0\n",
      "HER2-enriched : 13 (test) 14 (pred)\n",
      "HER2-enriched 0.9230769230769231\n",
      "Healthy : 20 (test) 19 (pred)\n",
      "Healthy 0.95\n",
      "None\n"
     ]
    }
   ],
   "source": [
    "clf = NearestCentroid()\n",
    "clf.fit(X_train,y_train)\n",
    "y_pred = clf.predict(X_test)\n",
    "y_pred = list(y_pred)\n",
    "print(accuracy_score(y_test, y_pred))\n",
    "print(class_accuracy(y_test, y_pred))"
   ]
  },
  {
   "cell_type": "markdown",
   "metadata": {},
   "source": [
    "Общая точность повысилась на 0.02\n",
    "Для Normal-like понизилась на 1\n",
    "Для Luminal A понизилась на 0.04\n",
    "Для Luminal B понизилась на 0.03\n",
    "Для Triple-negative, HER2-enriched и Healthy не изменилась "
   ]
  }
 ],
 "metadata": {
  "kernelspec": {
   "display_name": "Python 3",
   "language": "python",
   "name": "python3"
  },
  "language_info": {
   "codemirror_mode": {
    "name": "ipython",
    "version": 3
   },
   "file_extension": ".py",
   "mimetype": "text/x-python",
   "name": "python",
   "nbconvert_exporter": "python",
   "pygments_lexer": "ipython3",
   "version": "3.7.4"
  }
 },
 "nbformat": 4,
 "nbformat_minor": 2
}
