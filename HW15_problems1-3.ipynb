{
 "cells": [
  {
   "cell_type": "code",
   "execution_count": 1,
   "metadata": {},
   "outputs": [],
   "source": [
    "import numpy as np\n",
    "import pandas as pd\n",
    "from sklearn.neighbors import KNeighborsClassifier\n",
    "from sklearn.model_selection import train_test_split\n",
    "from sklearn.metrics import accuracy_score"
   ]
  },
  {
   "cell_type": "markdown",
   "metadata": {},
   "source": [
    "## Problem 1"
   ]
  },
  {
   "cell_type": "code",
   "execution_count": 4,
   "metadata": {},
   "outputs": [],
   "source": [
    "data = pd.read_csv('BRCA_pam50.tsv', sep='\\t', index_col=0)"
   ]
  },
  {
   "cell_type": "code",
   "execution_count": 5,
   "metadata": {},
   "outputs": [],
   "source": [
    "X = data.iloc[:, :-1].to_numpy()\n",
    "y = data['Subtype'].to_numpy()\n",
    "X_train, X_test, y_train, y_test = train_test_split(X, y, stratify=y,\n",
    "                                    test_size=0.2, random_state=17)"
   ]
  },
  {
   "cell_type": "code",
   "execution_count": 6,
   "metadata": {},
   "outputs": [
    {
     "name": "stdout",
     "output_type": "stream",
     "text": [
      "0.8743169398907104\n"
     ]
    }
   ],
   "source": [
    "model = KNeighborsClassifier(n_neighbors=1, p=2)\n",
    "model.fit(X_train,y_train)\n",
    "y_pred = model.predict(X_test)\n",
    "#print(y_pred == y_test)\n",
    "print(accuracy_score(y_test, y_pred))"
   ]
  },
  {
   "cell_type": "markdown",
   "metadata": {},
   "source": [
    "## Problem 2"
   ]
  },
  {
   "cell_type": "code",
   "execution_count": 19,
   "metadata": {},
   "outputs": [],
   "source": [
    "def class_accuracy(test, pred):\n",
    "\n",
    "\n",
    "    st_test = pd.value_counts(test)\n",
    "    st_pred = dict.fromkeys(data['Subtype'].unique(), 0)\n",
    "    for subtype in range(len(test)):\n",
    "        if pred[subtype]==test[subtype]:\n",
    "            st_pred[test[subtype]] += 1\n",
    "    for subtype in st_pred.keys():\n",
    "        print(subtype, ':', st_pred[subtype]/st_test[subtype])"
   ]
  },
  {
   "cell_type": "code",
   "execution_count": 20,
   "metadata": {},
   "outputs": [
    {
     "name": "stdout",
     "output_type": "stream",
     "text": [
      "Normal-like : 0.0\n",
      "Luminal A : 0.9512195121951219\n",
      "Luminal B : 0.6756756756756757\n",
      "Triple-negative : 1.0\n",
      "HER2-enriched : 0.7692307692307693\n",
      "Healthy : 1.0\n"
     ]
    }
   ],
   "source": [
    "y_test = list(y_test)\n",
    "y_pred = list(y_pred)\n",
    "class_accuracy(y_test, y_pred)"
   ]
  },
  {
   "cell_type": "markdown",
   "metadata": {},
   "source": [
    "## Problem 3"
   ]
  },
  {
   "cell_type": "code",
   "execution_count": 22,
   "metadata": {},
   "outputs": [],
   "source": [
    "from sklearn.neighbors import NearestCentroid"
   ]
  },
  {
   "cell_type": "code",
   "execution_count": 23,
   "metadata": {},
   "outputs": [
    {
     "name": "stdout",
     "output_type": "stream",
     "text": [
      "0.8907103825136612\n",
      "Normal-like : 0.75\n",
      "Luminal A : 0.8170731707317073\n",
      "Luminal B : 0.9459459459459459\n",
      "Triple-negative : 1.0\n",
      "HER2-enriched : 1.0\n",
      "Healthy : 0.9\n",
      "None\n"
     ]
    }
   ],
   "source": [
    "clf = NearestCentroid()\n",
    "clf.fit(X_train,y_train)\n",
    "y_pred = clf.predict(X_test)\n",
    "y_pred = list(y_pred)\n",
    "print(accuracy_score(y_test, y_pred))\n",
    "print(class_accuracy(y_test, y_pred))"
   ]
  }
 ],
 "metadata": {
  "kernelspec": {
   "display_name": "Python 3",
   "language": "python",
   "name": "python3"
  },
  "language_info": {
   "codemirror_mode": {
    "name": "ipython",
    "version": 3
   },
   "file_extension": ".py",
   "mimetype": "text/x-python",
   "name": "python",
   "nbconvert_exporter": "python",
   "pygments_lexer": "ipython3",
   "version": "3.7.4"
  }
 },
 "nbformat": 4,
 "nbformat_minor": 2
}
