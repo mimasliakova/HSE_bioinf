{
 "cells": [
  {
   "cell_type": "code",
   "execution_count": 1,
   "metadata": {},
   "outputs": [],
   "source": [
    "import numpy as np\n",
    "import pandas as pd\n",
    "import math\n",
    "from sklearn.neighbors import KNeighborsClassifier\n",
    "from sklearn.model_selection import train_test_split\n",
    "from sklearn.metrics import accuracy_score"
   ]
  },
  {
   "cell_type": "markdown",
   "metadata": {},
   "source": [
    "## Problem 1"
   ]
  },
  {
   "cell_type": "code",
   "execution_count": 2,
   "metadata": {},
   "outputs": [
    {
     "data": {
      "text/plain": [
       "array(['Normal-like', 'Luminal A', 'Luminal B', 'Triple-negative',\n",
       "       'HER2-enriched', 'Healthy'], dtype=object)"
      ]
     },
     "execution_count": 2,
     "metadata": {},
     "output_type": "execute_result"
    }
   ],
   "source": [
    "data = pd.read_csv('BRCA_pam50.tsv', sep='\\t', index_col=0)\n",
    "data['Subtype'].unique()"
   ]
  },
  {
   "cell_type": "code",
   "execution_count": 3,
   "metadata": {},
   "outputs": [],
   "source": [
    "X = data.iloc[:, :-1].to_numpy()\n",
    "y = data['Subtype'].to_numpy()\n",
    "X_train, X_test, y_train, y_test = train_test_split(X, y, stratify=y,\n",
    "                                    test_size=0.2, random_state=17)"
   ]
  },
  {
   "cell_type": "code",
   "execution_count": 4,
   "metadata": {},
   "outputs": [
    {
     "name": "stdout",
     "output_type": "stream",
     "text": [
      "0.8743169398907104\n"
     ]
    }
   ],
   "source": [
    "model = KNeighborsClassifier(n_neighbors=1, p=2)\n",
    "model.fit(X_train,y_train)\n",
    "y_pred = model.predict(X_test)\n",
    "#print(y_pred == y_test)\n",
    "print(accuracy_score(y_test, y_pred))"
   ]
  },
  {
   "cell_type": "markdown",
   "metadata": {},
   "source": [
    "## Problem 2"
   ]
  },
  {
   "cell_type": "code",
   "execution_count": 5,
   "metadata": {},
   "outputs": [],
   "source": [
    "def class_accuracy(test, pred):\n",
    "    \n",
    "    dict_test = {}\n",
    "    for st in test:\n",
    "        if st in dict_test.keys():\n",
    "            dict_test[st] += 1\n",
    "        else:\n",
    "            dict_test[st] = 1\n",
    "    print(dict_test)\n",
    "        \n",
    "\n",
    "    dict_pred = {}\n",
    "    for i in range (len(pred)):\n",
    "        if (pred[i] not in dict_pred.keys()) and (pred[i] == test[i]):\n",
    "            dict_pred[pred[i]] = 1\n",
    "        elif (pred[i] not in dict_pred.keys()) and (pred[i] != test[i]):\n",
    "            dict_pred[pred[i]] = 0\n",
    "        elif (pred[i] in dict_pred.keys()) and (pred[i] == test[i]):\n",
    "            dict_pred[pred[i]] += 1\n",
    "    print(dict_pred)\n",
    "    \n",
    "    for i in dict_pred.keys():\n",
    "        print(i, (dict_pred[i]/dict_test[i]))"
   ]
  },
  {
   "cell_type": "code",
   "execution_count": null,
   "metadata": {},
   "outputs": [],
   "source": [
    "def class_accuracy(test, pred):\n",
    "\n",
    "\n",
    "    subtypes = data['Subtype'].unique()\n",
    "    subtypes = list(subtypes)\n",
    "    for subtype in subtypes:\n",
    "        st_test = test.count(subtype)\n",
    "        st_pred = pred.count(subtype)\n",
    "        if st_pred/st_test < 1:\n",
    "            st_accuracy = st_pred/st_test\n",
    "        else:\n",
    "            st_accuracy = st_pred/st_test - 1\n",
    "        print(subtype, st_accuracy)"
   ]
  },
  {
   "cell_type": "code",
   "execution_count": 6,
   "metadata": {},
   "outputs": [
    {
     "name": "stdout",
     "output_type": "stream",
     "text": [
      "{'Luminal A': 82, 'Healthy': 20, 'Luminal B': 37, 'Triple-negative': 27, 'HER2-enriched': 13, 'Normal-like': 4}\n",
      "{'Luminal A': 78, 'Healthy': 20, 'Luminal B': 25, 'Triple-negative': 27, 'HER2-enriched': 10, 'Normal-like': 0}\n",
      "Luminal A 0.9512195121951219\n",
      "Healthy 1.0\n",
      "Luminal B 0.6756756756756757\n",
      "Triple-negative 1.0\n",
      "HER2-enriched 0.7692307692307693\n",
      "Normal-like 0.0\n"
     ]
    }
   ],
   "source": [
    "y_test = list(y_test)\n",
    "y_pred = list(y_pred)\n",
    "class_accuracy(y_test, y_pred)"
   ]
  },
  {
   "cell_type": "markdown",
   "metadata": {},
   "source": [
    "## Problem 3"
   ]
  },
  {
   "cell_type": "code",
   "execution_count": 7,
   "metadata": {},
   "outputs": [],
   "source": [
    "from sklearn.neighbors import NearestCentroid"
   ]
  },
  {
   "cell_type": "code",
   "execution_count": 8,
   "metadata": {},
   "outputs": [
    {
     "name": "stdout",
     "output_type": "stream",
     "text": [
      "0.8907103825136612\n",
      "{'Luminal A': 82, 'Healthy': 20, 'Luminal B': 37, 'Triple-negative': 27, 'HER2-enriched': 13, 'Normal-like': 4}\n",
      "{'Normal-like': 3, 'Luminal B': 35, 'Healthy': 18, 'Luminal A': 67, 'Triple-negative': 27, 'HER2-enriched': 13}\n",
      "Normal-like 0.75\n",
      "Luminal B 0.9459459459459459\n",
      "Healthy 0.9\n",
      "Luminal A 0.8170731707317073\n",
      "Triple-negative 1.0\n",
      "HER2-enriched 1.0\n",
      "None\n"
     ]
    }
   ],
   "source": [
    "clf = NearestCentroid()\n",
    "clf.fit(X_train,y_train)\n",
    "y_pred = clf.predict(X_test)\n",
    "y_pred = list(y_pred)\n",
    "print(accuracy_score(y_test, y_pred))\n",
    "print(class_accuracy(y_test, y_pred))"
   ]
  }
 ],
 "metadata": {
  "kernelspec": {
   "display_name": "Python 3",
   "language": "python",
   "name": "python3"
  },
  "language_info": {
   "codemirror_mode": {
    "name": "ipython",
    "version": 3
   },
   "file_extension": ".py",
   "mimetype": "text/x-python",
   "name": "python",
   "nbconvert_exporter": "python",
   "pygments_lexer": "ipython3",
   "version": "3.7.4"
  }
 },
 "nbformat": 4,
 "nbformat_minor": 2
}
