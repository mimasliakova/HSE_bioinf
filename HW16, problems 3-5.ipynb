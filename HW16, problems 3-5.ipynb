{
  "nbformat": 4,
  "nbformat_minor": 0,
  "metadata": {
    "colab": {
      "name": "HW16.ipynb",
      "provenance": []
    },
    "kernelspec": {
      "name": "python3",
      "display_name": "Python 3"
    },
    "language_info": {
      "name": "python"
    }
  },
  "cells": [
    {
      "cell_type": "markdown",
      "metadata": {
        "id": "G--3crVy-klN"
      },
      "source": [
        "Problem 3"
      ]
    },
    {
      "cell_type": "code",
      "metadata": {
        "id": "JkJ6x0AQLpnP"
      },
      "source": [
        "import pandas as pd\n",
        "import numpy as np\n",
        "\n",
        "from sklearn.datasets import make_circles\n",
        "from sklearn.svm import SVC\n",
        "from sklearn.metrics import accuracy_score\n",
        "from sklearn.model_selection import train_test_split\n",
        "from sklearn.metrics import confusion_matrix, plot_roc_curve\n",
        "\n",
        "import seaborn as sns\n",
        "import matplotlib.pyplot as plt\n",
        "from sklearn.decomposition import PCA\n",
        "import time"
      ],
      "execution_count": 103,
      "outputs": []
    },
    {
      "cell_type": "code",
      "metadata": {
        "id": "x3CdnJVAmTzg"
      },
      "source": [
        "data = pd.read_csv('BRCA_pam50.tsv', sep='\\t', index_col=0)\n",
        "data = data.loc[data['Subtype'].isin(['Luminal A', 'Luminal B'])]\n",
        "X = data.iloc[:, :-1].to_numpy()\n",
        "y = data['Subtype'].to_numpy()\n",
        "X_train, X_test, y_train, y_test = train_test_split(X, y, stratify=y, random_state=13)\n",
        "model = SVC(kernel=\"linear\")\n",
        "model.fit(X_train, y_train)\n",
        "y_pred = model.predict(X_test)"
      ],
      "execution_count": 104,
      "outputs": []
    },
    {
      "cell_type": "code",
      "metadata": {
        "colab": {
          "base_uri": "https://localhost:8080/"
        },
        "id": "aJHbnUEDm-H1",
        "outputId": "e220df03-8992-4de9-c717-98682004e5eb"
      },
      "source": [
        "print(accuracy_score(y_test, y_pred))\n",
        "M = confusion_matrix(y_test, y_pred)\n",
        "print(M)\n",
        "TPR = M[0, 0] / (M[0, 0] + M[0, 1])\n",
        "TNR = M[1, 1] / (M[1, 0] + M[1, 1])\n",
        "print(TPR, TNR)"
      ],
      "execution_count": 105,
      "outputs": [
        {
          "output_type": "stream",
          "text": [
            "0.9463087248322147\n",
            "[[99  4]\n",
            " [ 4 42]]\n",
            "0.9611650485436893 0.9130434782608695\n"
          ],
          "name": "stdout"
        }
      ]
    },
    {
      "cell_type": "code",
      "metadata": {
        "colab": {
          "base_uri": "https://localhost:8080/",
          "height": 296
        },
        "id": "xca7aqLWogfV",
        "outputId": "ae5b416f-90a1-412f-900e-2a6fc5ed3bfb"
      },
      "source": [
        "plot_roc_curve(model, X_test, y_test)\n",
        "plt.plot(1 - TPR, TNR, \"*\", c=\"yellow\")"
      ],
      "execution_count": 106,
      "outputs": [
        {
          "output_type": "execute_result",
          "data": {
            "text/plain": [
              "[<matplotlib.lines.Line2D at 0x7fb4f24af190>]"
            ]
          },
          "metadata": {
            "tags": []
          },
          "execution_count": 106
        },
        {
          "output_type": "display_data",
          "data": {
            "image/png": "[encoded data removed]",
            "text/plain": [
              "<Figure size 432x288 with 1 Axes>"
            ]
          },
          "metadata": {
            "tags": [],
            "needs_background": "light"
          }
        }
      ]
    },
    {
      "cell_type": "code",
      "metadata": {
        "id": "HrOK8tfGon3H"
      },
      "source": [
        "data = data.iloc[:, :-1]\n",
        "data.loc['coef'] = model.coef_[0]"
      ],
      "execution_count": 107,
      "outputs": []
    },
    {
      "cell_type": "code",
      "metadata": {
        "id": "1AgOtItwo_Yt"
      },
      "source": [
        "genes = data.T.sort_values(['coef'], ascending=False, key=abs)"
      ],
      "execution_count": 108,
      "outputs": []
    },
    {
      "cell_type": "code",
      "metadata": {
        "colab": {
          "base_uri": "https://localhost:8080/"
        },
        "id": "-VehR8-etQkj",
        "outputId": "bd4d6b1d-6bec-4b75-e824-93951ed73af6"
      },
      "source": [
        "print(genes['coef'].head(5))"
      ],
      "execution_count": 109,
      "outputs": [
        {
          "output_type": "stream",
          "text": [
            "FOXC1   -1.519142\n",
            "MIA     -1.301628\n",
            "ORC6     1.114742\n",
            "KRT17   -1.065207\n",
            "UBE2T    0.773348\n",
            "Name: coef, dtype: float64\n"
          ],
          "name": "stdout"
        }
      ]
    },
    {
      "cell_type": "code",
      "metadata": {
        "id": "p9SKO43CuJsj"
      },
      "source": [
        "data1 = pd.read_csv('BRCA_pam50.tsv', sep='\\t', index_col=0)\n",
        "data1 = data1.loc[data1['Subtype'].isin(['Luminal A', 'Luminal B']), \n",
        "                 ['FOXC1', 'MIA', 'ORC6', 'KRT17', 'UBE2T', 'Subtype']]\n",
        "X = data1.iloc[:, :-1].to_numpy()\n",
        "y = data1['Subtype'].to_numpy()\n",
        "X_train, X_test, y_train, y_test = train_test_split(X, y, stratify=y, random_state=13)\n",
        "model = SVC(kernel=\"linear\")\n",
        "model.fit(X_train, y_train)\n",
        "y_pred = model.predict(X_test)"
      ],
      "execution_count": 110,
      "outputs": []
    },
    {
      "cell_type": "code",
      "metadata": {
        "colab": {
          "base_uri": "https://localhost:8080/",
          "height": 363
        },
        "id": "nXgv81Qm0R4c",
        "outputId": "df002752-e564-4b66-cbe4-ba9cdac2c084"
      },
      "source": [
        "print(accuracy_score(y_test, y_pred))\n",
        "M = confusion_matrix(y_test, y_pred)\n",
        "print(M)\n",
        "TPR = M[0, 0] / (M[0, 0] + M[0, 1])\n",
        "TNR = M[1, 1] / (M[1, 0] + M[1, 1])\n",
        "print(TPR, TNR)\n",
        "\n",
        "plot_roc_curve(model, X_test, y_test)\n",
        "plt.plot(1 - TPR, TNR, \"*\", c=\"yellow\")"
      ],
      "execution_count": 111,
      "outputs": [
        {
          "output_type": "stream",
          "text": [
            "0.8456375838926175\n",
            "[[90 13]\n",
            " [10 36]]\n",
            "0.8737864077669902 0.782608695652174\n"
          ],
          "name": "stdout"
        },
        {
          "output_type": "execute_result",
          "data": {
            "text/plain": [
              "[<matplotlib.lines.Line2D at 0x7fb4f2413590>]"
            ]
          },
          "metadata": {
            "tags": []
          },
          "execution_count": 111
        },
        {
          "output_type": "display_data",
          "data": {
            "image/png": "[encoded data removed]",
            "text/plain": [
              "<Figure size 432x288 with 1 Axes>"
            ]
          },
          "metadata": {
            "tags": [],
            "needs_background": "light"
          }
        }
      ]
    },
    {
      "cell_type": "markdown",
      "metadata": {
        "id": "yNixjm_q9YcG"
      },
      "source": [
        "Problem 4"
      ]
    },
    {
      "cell_type": "code",
      "metadata": {
        "colab": {
          "base_uri": "https://localhost:8080/"
        },
        "id": "_CpQMl_E0pwP",
        "outputId": "91467b6b-cb34-4021-cd8d-e54d447bdaeb"
      },
      "source": [
        "data = pd.read_csv('BRCA_pam50.tsv', sep='\\t', index_col=0)\n",
        "X = data.iloc[:, :-1].to_numpy()\n",
        "y = data['Subtype'].to_numpy()\n",
        "X_train, X_test, y_train, y_test = train_test_split(X, y, stratify=y, random_state=13)\n",
        "model = SVC(kernel=\"linear\", decision_function_shape='ovr')\n",
        "model.fit(X_train, y_train)\n",
        "y_pred = model.predict(X_test)\n",
        "print(accuracy_score(y_test, y_pred))\n",
        "M = confusion_matrix(y_test, y_pred)\n",
        "print(M)"
      ],
      "execution_count": 112,
      "outputs": [
        {
          "output_type": "stream",
          "text": [
            "0.9301310043668122\n",
            "[[ 16   0   0   0   0   0]\n",
            " [  0  24   0   0   1   0]\n",
            " [  1   0 101   0   1   0]\n",
            " [  1   0   9  36   0   0]\n",
            " [  1   1   1   0   2   0]\n",
            " [  0   0   0   0   0  34]]\n"
          ],
          "name": "stdout"
        }
      ]
    },
    {
      "cell_type": "code",
      "metadata": {
        "colab": {
          "base_uri": "https://localhost:8080/"
        },
        "id": "TnvZfaWI-NoK",
        "outputId": "4a80514c-862c-4041-8777-62534010e9a7"
      },
      "source": [
        "pca = PCA(n_components=2)\n",
        "X = pca.fit_transform(X)\n",
        "X_train, X_test, y_train, y_test = train_test_split(X, y, stratify=y, random_state=13)\n",
        "model = SVC(kernel=\"linear\", decision_function_shape='ovr')\n",
        "model.fit(X_train, y_train)\n",
        "y_pred = model.predict(X_test)\n",
        "print(accuracy_score(y_test, y_pred))\n",
        "M = confusion_matrix(y_test, y_pred)\n",
        "print(M)"
      ],
      "execution_count": 113,
      "outputs": [
        {
          "output_type": "stream",
          "text": [
            "0.9082969432314411\n",
            "[[11  0  1  3  1  0]\n",
            " [ 0 24  1  0  0  0]\n",
            " [ 1  0 97  4  1  0]\n",
            " [ 1  0  5 40  0  0]\n",
            " [ 0  1  1  0  3  0]\n",
            " [ 0  0  0  0  1 33]]\n"
          ],
          "name": "stdout"
        }
      ]
    },
    {
      "cell_type": "markdown",
      "metadata": {
        "id": "2bl3ZU1k-iZK"
      },
      "source": [
        "Problem 5"
      ]
    },
    {
      "cell_type": "code",
      "metadata": {
        "id": "n7PwNa8Z-gUv"
      },
      "source": [
        "N = 10000\n",
        "X1 = np.random.normal(loc=0, size=(N, 2))\n",
        "X2 = np.random.normal(loc=10, size=(N, 2))\n",
        "X_1 = np.vstack([X1, X2])\n",
        "y_1 = np.array([0]*N + [1]*N)"
      ],
      "execution_count": 114,
      "outputs": []
    },
    {
      "cell_type": "code",
      "metadata": {
        "colab": {
          "base_uri": "https://localhost:8080/",
          "height": 380
        },
        "id": "mMadTEw4DcRb",
        "outputId": "bf956fc8-134c-46b9-b884-78f4bfbafd90"
      },
      "source": [
        "X_train, X_test, y_train, y_test = train_test_split(X_1, y_1, stratify=y_1,\n",
        "                                                    random_state=13)\n",
        "model = SVC(kernel=\"linear\")\n",
        "start_time = time.time()\n",
        "model.fit(X_train, y_train)\n",
        "y_pred = model.predict(X_test)\n",
        "\n",
        "print(\"--- %s seconds ---\" % (time.time() - start_time))\n",
        "\n",
        "print(accuracy_score(y_test, y_pred))\n",
        "M = confusion_matrix(y_test, y_pred)\n",
        "print(M)\n",
        "TPR = M[0, 0] / (M[0, 0] + M[0, 1])\n",
        "TNR = M[1, 1] / (M[1, 0] + M[1, 1])\n",
        "print(TPR, TNR)\n",
        "\n",
        "plot_roc_curve(model, X_test, y_test)\n",
        "plt.plot(1 - TPR, TNR, \"*\", c=\"yellow\")"
      ],
      "execution_count": 115,
      "outputs": [
        {
          "output_type": "stream",
          "text": [
            "--- 0.00605010986328125 seconds ---\n",
            "1.0\n",
            "[[2500    0]\n",
            " [   0 2500]]\n",
            "1.0 1.0\n"
          ],
          "name": "stdout"
        },
        {
          "output_type": "execute_result",
          "data": {
            "text/plain": [
              "[<matplotlib.lines.Line2D at 0x7fb4f23a5510>]"
            ]
          },
          "metadata": {
            "tags": []
          },
          "execution_count": 115
        },
        {
          "output_type": "display_data",
          "data": {
            "image/png": "[encoded data removed]",
            "text/plain": [
              "<Figure size 432x288 with 1 Axes>"
            ]
          },
          "metadata": {
            "tags": [],
            "needs_background": "light"
          }
        }
      ]
    },
    {
      "cell_type": "code",
      "metadata": {
        "id": "QKRLFmjVCuDS"
      },
      "source": [
        "N = 10000\n",
        "X3 = np.random.normal(loc=0, size=(N, 2))\n",
        "X4 = np.random.normal(loc=0, size=(N, 2))\n",
        "X_2 = np.vstack([X3, X4])\n",
        "y_2 = np.array([0]*N + [1]*N)"
      ],
      "execution_count": 116,
      "outputs": []
    },
    {
      "cell_type": "code",
      "metadata": {
        "colab": {
          "base_uri": "https://localhost:8080/",
          "height": 380
        },
        "id": "_kvawqPjC0wC",
        "outputId": "7f78bbb5-30e7-4050-e8fe-d6fc052a740b"
      },
      "source": [
        "X_train, X_test, y_train, y_test = train_test_split(X_2, y_2, stratify=y_2,\n",
        "                                                    random_state=13)\n",
        "model = SVC(kernel=\"linear\")\n",
        "start_time = time.time()\n",
        "model.fit(X_train, y_train)\n",
        "y_pred = model.predict(X_test)\n",
        "\n",
        "print(\"--- %s seconds ---\" % (time.time() - start_time))\n",
        "\n",
        "print(accuracy_score(y_test, y_pred))\n",
        "M = confusion_matrix(y_test, y_pred)\n",
        "print(M)\n",
        "TPR = M[0, 0] / (M[0, 0] + M[0, 1])\n",
        "TNR = M[1, 1] / (M[1, 0] + M[1, 1])\n",
        "print(TPR, TNR)\n",
        "\n",
        "plot_roc_curve(model, X_test, y_test)\n",
        "plt.plot(1 - TPR, TNR, \"*\", c=\"yellow\")"
      ],
      "execution_count": 117,
      "outputs": [
        {
          "output_type": "stream",
          "text": [
            "--- 4.732409954071045 seconds ---\n",
            "0.4936\n",
            "[[1220 1280]\n",
            " [1252 1248]]\n",
            "0.488 0.4992\n"
          ],
          "name": "stdout"
        },
        {
          "output_type": "execute_result",
          "data": {
            "text/plain": [
              "[<matplotlib.lines.Line2D at 0x7fb4f23232d0>]"
            ]
          },
          "metadata": {
            "tags": []
          },
          "execution_count": 117
        },
        {
          "output_type": "display_data",
          "data": {
            "image/png": "[encoded data removed]",
            "text/plain": [
              "<Figure size 432x288 with 1 Axes>"
            ]
          },
          "metadata": {
            "tags": [],
            "needs_background": "light"
          }
        }
      ]
    },
    {
      "cell_type": "code",
      "metadata": {
        "id": "JnrAoMFVJJAX"
      },
      "source": [
        ""
      ],
      "execution_count": null,
      "outputs": []
    }
  ]
}