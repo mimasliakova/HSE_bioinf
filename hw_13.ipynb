{
 "cells": [
  {
   "cell_type": "code",
   "execution_count": 36,
   "metadata": {},
   "outputs": [],
   "source": [
    "import random\n",
    "import pandas as pd\n",
    "import numpy as np\n",
    "from scipy.stats import ttest_ind, mannwhitneyu\n",
    "import seaborn as sns\n",
    "import matplotlib.pyplot as plt"
   ]
  },
  {
   "cell_type": "code",
   "execution_count": null,
   "metadata": {},
   "outputs": [],
   "source": [
    "pip install rpy2==3.4.4"
   ]
  },
  {
   "cell_type": "code",
   "execution_count": 2,
   "metadata": {},
   "outputs": [],
   "source": [
    "import rpy2"
   ]
  },
  {
   "cell_type": "code",
   "execution_count": 4,
   "metadata": {},
   "outputs": [],
   "source": [
    "from rpy2 import robjects\n",
    "from rpy2.robjects import Formula"
   ]
  },
  {
   "cell_type": "code",
   "execution_count": 5,
   "metadata": {},
   "outputs": [
    {
     "name": "stderr",
     "output_type": "stream",
     "text": [
      "C:\\Users\\lenovo\\Anaconda3\\lib\\site-packages\\rpy2\\robjects\\vectors.py:980: UserWarning: R object inheriting from \"POSIXct\" but without attribute \"tzone\".\n",
      "  warnings.warn('R object inheriting from \"POSIXct\" but without '\n"
     ]
    }
   ],
   "source": [
    "from rpy2.robjects import pandas2ri\n",
    "pandas2ri.activate()\n",
    "\n",
    "from rpy2.robjects.packages import importr\n",
    "\n",
    "base = importr(\"base\")\n",
    "stats = importr(\"stats\")\n",
    "DESeq2 = importr(\"DESeq2\")"
   ]
  },
  {
   "cell_type": "markdown",
   "metadata": {},
   "source": [
    "## Problem 2 (paired)"
   ]
  },
  {
   "cell_type": "code",
   "execution_count": 6,
   "metadata": {},
   "outputs": [
    {
     "name": "stderr",
     "output_type": "stream",
     "text": [
      "C:\\Users\\lenovo\\Anaconda3\\lib\\site-packages\\rpy2\\robjects\\pandas2ri.py:62: UserWarning: Error while trying to convert the column \"Tissue\". Fall back to string conversion. The error is: module 'pandas' has no attribute 'NA'\n",
      "  % (name, str(e)))\n",
      "R[write to console]:   the design formula contains one or more numeric variables with integer values,\n",
      "  specifying a model with increasing fold change for higher values.\n",
      "  did you mean for this to be a factor? if so, first convert\n",
      "  this variable to a factor using the factor() function\n",
      "\n",
      "R[write to console]: estimating size factors\n",
      "\n",
      "R[write to console]: estimating dispersions\n",
      "\n",
      "R[write to console]: gene-wise dispersion estimates\n",
      "\n",
      "R[write to console]: mean-dispersion relationship\n",
      "\n",
      "R[write to console]: final dispersion estimates\n",
      "\n",
      "R[write to console]: fitting model and testing\n",
      "\n"
     ]
    }
   ],
   "source": [
    "counts = pd.read_csv(\"colon_cancer_tumor_vs_normal_paired_counts.tsv\", sep=\"\\t\", index_col=0)\n",
    "\n",
    "# Define meta\n",
    "meta = pd.DataFrame({\"Tissue\": [\"Tumor\"]*5 + [\"Normal\"]*5, \"Patient\": list(range(1, 6))*2}, index=counts.columns)\n",
    "#meta[\"Tissue\"] = stats.relevel(robjects.vectors.FactorVector(meta[\"Tissue\"]), ref=\"Normal\")\n",
    "\n",
    "# Calculate normalization factors\n",
    "dds = DESeq2.DESeqDataSetFromMatrix(countData=counts, colData=meta, design=Formula(\"~ Patient + Tissue\"))\n",
    "dds = DESeq2.DESeq(dds)"
   ]
  },
  {
   "cell_type": "code",
   "execution_count": 7,
   "metadata": {},
   "outputs": [
    {
     "name": "stderr",
     "output_type": "stream",
     "text": [
      "R[write to console]: using 'apeglm' for LFC shrinkage. If used in published research, please cite:\n",
      "    Zhu, A., Ibrahim, J.G., Love, M.I. (2018) Heavy-tailed prior distributions for\n",
      "    sequence count data: removing the noise and preserving large differences.\n",
      "    Bioinformatics. https://doi.org/10.1093/bioinformatics/bty895\n",
      "\n"
     ]
    }
   ],
   "source": [
    "res = DESeq2.results(dds, name=\"Tissue_Tumor_vs_Normal\")\n",
    "res = DESeq2.lfcShrink(dds, coef=\"Tissue_Tumor_vs_Normal\", type=\"apeglm\")"
   ]
  },
  {
   "cell_type": "code",
   "execution_count": 8,
   "metadata": {},
   "outputs": [],
   "source": [
    "res = pd.DataFrame(base.as_data_frame(res))\n",
    "res.index = counts.index\n",
    "res = res.sort_values(\"padj\")\n",
    "res = res.loc[res[\"padj\"] < 0.05]"
   ]
  },
  {
   "cell_type": "code",
   "execution_count": 13,
   "metadata": {},
   "outputs": [
    {
     "name": "stdout",
     "output_type": "stream",
     "text": [
      "4965\n",
      "Index(['RP11-474D1.3', 'CDH3', 'MMP11', 'WNT2', 'ATG9B', 'CEMIP', 'SPTBN2',\n",
      "       'GYLTL1B', 'C2CD4A', 'TRIB3'],\n",
      "      dtype='object')\n"
     ]
    }
   ],
   "source": [
    "print(len(res))\n",
    "print(res.iloc[:10].index)\n",
    "res.to_csv(\"DESeq2_results_paired.tsv\", sep=\"\\t\")\n",
    "res_10 = res.head(10)"
   ]
  },
  {
   "cell_type": "markdown",
   "metadata": {},
   "source": [
    "## unpaired"
   ]
  },
  {
   "cell_type": "code",
   "execution_count": 10,
   "metadata": {},
   "outputs": [
    {
     "name": "stderr",
     "output_type": "stream",
     "text": [
      "R[write to console]: estimating size factors\n",
      "\n",
      "R[write to console]: estimating dispersions\n",
      "\n",
      "R[write to console]: gene-wise dispersion estimates\n",
      "\n",
      "R[write to console]: mean-dispersion relationship\n",
      "\n",
      "R[write to console]: final dispersion estimates\n",
      "\n",
      "R[write to console]: fitting model and testing\n",
      "\n"
     ]
    }
   ],
   "source": [
    "dds = DESeq2.DESeqDataSetFromMatrix(countData=counts, colData=meta, design=Formula(\"~ Tissue\"))\n",
    "dds = DESeq2.DESeq(dds)"
   ]
  },
  {
   "cell_type": "code",
   "execution_count": 11,
   "metadata": {},
   "outputs": [
    {
     "name": "stderr",
     "output_type": "stream",
     "text": [
      "R[write to console]: using 'apeglm' for LFC shrinkage. If used in published research, please cite:\n",
      "    Zhu, A., Ibrahim, J.G., Love, M.I. (2018) Heavy-tailed prior distributions for\n",
      "    sequence count data: removing the noise and preserving large differences.\n",
      "    Bioinformatics. https://doi.org/10.1093/bioinformatics/bty895\n",
      "\n"
     ]
    }
   ],
   "source": [
    "res = DESeq2.results(dds, name=\"Tissue_Tumor_vs_Normal\")\n",
    "res = DESeq2.lfcShrink(dds, coef=\"Tissue_Tumor_vs_Normal\", type=\"apeglm\")\n",
    "res = pd.DataFrame(base.as_data_frame(res))\n",
    "res.index = counts.index\n",
    "res = res.sort_values(\"padj\")\n",
    "res = res.loc[res[\"padj\"] < 0.05]"
   ]
  },
  {
   "cell_type": "code",
   "execution_count": 16,
   "metadata": {},
   "outputs": [
    {
     "name": "stdout",
     "output_type": "stream",
     "text": [
      "4965\n",
      "Index(['RP11-474D1.3', 'CDH3', 'MMP11', 'WNT2', 'ATG9B', 'CEMIP', 'SPTBN2',\n",
      "       'GYLTL1B', 'C2CD4A', 'TRIB3'],\n",
      "      dtype='object')\n"
     ]
    }
   ],
   "source": [
    "print(len(res))\n",
    "print(res.iloc[:10].index)\n",
    "res.to_csv(\"DESeq2_results_unpaired.tsv\", sep=\"\\t\")\n",
    "res1_10 = res.head(10)"
   ]
  },
  {
   "cell_type": "code",
   "execution_count": 17,
   "metadata": {},
   "outputs": [
    {
     "name": "stdout",
     "output_type": "stream",
     "text": [
      "['TRIB3', 'ATG9B', 'C2CD4A', 'CDH3', 'RP11-474D1.3', 'CEMIP', 'SPTBN2', 'MMP11', 'GYLTL1B', 'WNT2']\n",
      "10\n"
     ]
    }
   ],
   "source": [
    "same_genes = list(set(res_10.index.values) & set(res1_10.index.values))\n",
    "print(same_genes)\n",
    "print(len(same_genes))"
   ]
  },
  {
   "cell_type": "markdown",
   "metadata": {},
   "source": [
    "## Problem 3"
   ]
  },
  {
   "cell_type": "code",
   "execution_count": 21,
   "metadata": {},
   "outputs": [],
   "source": [
    "df = pd.read_csv(\"colon_cancer_tumor_vs_normal_unpaired_FPKM.tsv\", sep=\"\\t\", index_col=0)"
   ]
  },
  {
   "cell_type": "code",
   "execution_count": 24,
   "metadata": {},
   "outputs": [
    {
     "name": "stdout",
     "output_type": "stream",
     "text": [
      "Index(['C17orf96', 'IER5L', 'FUT1', 'CDH3', 'FXYD5', 'ZNHIT2', 'CLCA4',\n",
      "       'ACADSB', 'MT1F', 'PIGN'],\n",
      "      dtype='object')\n"
     ]
    }
   ],
   "source": [
    "df[\"ttest\"] = [ttest_ind(df.loc[gene].iloc[0:5], df.loc[gene].iloc[5:10])[1] for gene in df.index]\n",
    "df = df.sort_values(\"ttest\")\n",
    "print(df.iloc[:10].index)"
   ]
  },
  {
   "cell_type": "code",
   "execution_count": 25,
   "metadata": {},
   "outputs": [
    {
     "name": "stdout",
     "output_type": "stream",
     "text": [
      "Index(['SFTA2', 'CTD-2147F2.1', 'RAET1L', 'LINC00460', 'AC007128.1',\n",
      "       'RP5-884M6.1', 'CST1', 'VAC14-AS1', 'LINC00858', 'RP11-399O19.9'],\n",
      "      dtype='object')\n"
     ]
    }
   ],
   "source": [
    "df[\"mannwhitneyu\"] = [mannwhitneyu(df.loc[gene].iloc[0:5], df.loc[gene].iloc[5:10])[1] for gene in df.index]\n",
    "df = df.sort_values(\"mannwhitneyu\")\n",
    "print(df.iloc[:10].index)"
   ]
  },
  {
   "cell_type": "code",
   "execution_count": 27,
   "metadata": {},
   "outputs": [
    {
     "name": "stderr",
     "output_type": "stream",
     "text": [
      "R[write to console]: estimating size factors\n",
      "\n",
      "R[write to console]: estimating dispersions\n",
      "\n",
      "R[write to console]: gene-wise dispersion estimates\n",
      "\n",
      "R[write to console]: mean-dispersion relationship\n",
      "\n",
      "R[write to console]: final dispersion estimates\n",
      "\n",
      "R[write to console]: fitting model and testing\n",
      "\n"
     ]
    }
   ],
   "source": [
    "counts = pd.read_csv(\"colon_cancer_tumor_vs_normal_unpaired_counts.tsv\", sep=\"\\t\", index_col=0)\n",
    "meta = pd.DataFrame({\"Tissue\": [\"Tumor\"]*5 + [\"Normal\"]*5}, index=counts.columns)\n",
    "meta[\"Tissue\"] = stats.relevel(robjects.vectors.FactorVector(meta[\"Tissue\"]), ref=\"Normal\")\n",
    "dds = DESeq2.DESeqDataSetFromMatrix(countData=counts, colData=meta, design=Formula(\"~ Tissue\"))\n",
    "dds = DESeq2.DESeq(dds)"
   ]
  },
  {
   "cell_type": "code",
   "execution_count": 28,
   "metadata": {},
   "outputs": [
    {
     "name": "stderr",
     "output_type": "stream",
     "text": [
      "R[write to console]: using 'apeglm' for LFC shrinkage. If used in published research, please cite:\n",
      "    Zhu, A., Ibrahim, J.G., Love, M.I. (2018) Heavy-tailed prior distributions for\n",
      "    sequence count data: removing the noise and preserving large differences.\n",
      "    Bioinformatics. https://doi.org/10.1093/bioinformatics/bty895\n",
      "\n"
     ]
    }
   ],
   "source": [
    "res = DESeq2.results(dds, name=\"Tissue_Tumor_vs_Normal\")\n",
    "res = DESeq2.lfcShrink(dds, coef=\"Tissue_Tumor_vs_Normal\", type=\"apeglm\")\n",
    "res = pd.DataFrame(base.as_data_frame(res))\n",
    "res.index = counts.index\n",
    "res = res.sort_values(\"padj\")\n",
    "res = res.loc[res[\"padj\"] < 0.05]"
   ]
  },
  {
   "cell_type": "code",
   "execution_count": 29,
   "metadata": {},
   "outputs": [
    {
     "name": "stdout",
     "output_type": "stream",
     "text": [
      "Index(['FABP6', 'ETV4', 'IER5L', 'KRT80', 'FUT1', 'C17orf96', 'CLDN1', 'ATG9B',\n",
      "       'KIAA1257', 'SLC51B'],\n",
      "      dtype='object')\n"
     ]
    }
   ],
   "source": [
    "print(res.iloc[:10].index)"
   ]
  },
  {
   "cell_type": "code",
   "execution_count": 33,
   "metadata": {},
   "outputs": [],
   "source": [
    "ttest = set(['C17orf96', 'IER5L', 'FUT1', 'CDH3', 'FXYD5', 'ZNHIT2', 'CLCA4',\n",
    "       'ACADSB', 'MT1F', 'PIGN'])\n",
    "mannwhitneyu = set(['SFTA2', 'CTD-2147F2.1', 'RAET1L', 'LINC00460', 'AC007128.1',\n",
    "       'RP5-884M6.1', 'CST1', 'VAC14-AS1', 'LINC00858', 'RP11-399O19.9'])\n",
    "deseq2 = set(['FABP6', 'ETV4', 'IER5L', 'KRT80', 'FUT1', 'C17orf96', 'CLDN1', 'ATG9B',\n",
    "       'KIAA1257', 'SLC51B'])"
   ]
  },
  {
   "cell_type": "code",
   "execution_count": 35,
   "metadata": {},
   "outputs": [
    {
     "name": "stdout",
     "output_type": "stream",
     "text": [
      "{'FUT1', 'C17orf96', 'IER5L'}\n",
      "set()\n",
      "set()\n"
     ]
    }
   ],
   "source": [
    "print(deseq2.intersection(ttest)) ##deseq2 and ttest\n",
    "print(deseq2.intersection(mannwhitneyu)) ##deseq2 and mann\n",
    "print(ttest.intersection(mannwhitneyu)) ##ttest and mann"
   ]
  },
  {
   "cell_type": "markdown",
   "metadata": {},
   "source": [
    "## Problem 4"
   ]
  },
  {
   "cell_type": "code",
   "execution_count": 40,
   "metadata": {},
   "outputs": [
    {
     "data": {
      "image/png": "[encoded data removed]",
      "text/plain": [
       "<Figure size 432x288 with 1 Axes>"
      ]
     },
     "metadata": {
      "needs_background": "light"
     },
     "output_type": "display_data"
    }
   ],
   "source": [
    "counts = pd.read_csv(\"colon_cancer_tumor_vs_normal_unpaired_counts.tsv\", sep=\"\\t\", index_col=0)\n",
    "deseq2=counts.loc[['FABP6', 'ETV4', 'IER5L', 'KRT80', 'FUT1', 'C17orf96', 'CLDN1', 'ATG9B', 'KIAA1257', 'SLC51B']].T\n",
    "sns.violinplot(data=deseq2)\n",
    "plt.xticks(rotation=30)\n",
    "plt.tight_layout()"
   ]
  },
  {
   "cell_type": "code",
   "execution_count": 41,
   "metadata": {},
   "outputs": [],
   "source": [
    "fpkm = pd.read_csv(\"colon_cancer_tumor_vs_normal_unpaired_FPKM.tsv\", sep=\"\\t\", index_col=0)"
   ]
  },
  {
   "cell_type": "code",
   "execution_count": 42,
   "metadata": {},
   "outputs": [
    {
     "data": {
      "image/png": "[encoded data removed]",
      "text/plain": [
       "<Figure size 432x288 with 1 Axes>"
      ]
     },
     "metadata": {
      "needs_background": "light"
     },
     "output_type": "display_data"
    }
   ],
   "source": [
    "ttest=fpkm.loc[['C17orf96', 'IER5L', 'FUT1', 'CDH3', 'FXYD5', 'ZNHIT2', 'CLCA4', 'ACADSB', 'MT1F', 'PIGN']].T\n",
    "sns.violinplot(data=ttest)\n",
    "plt.xticks(rotation=30)\n",
    "plt.tight_layout()"
   ]
  },
  {
   "cell_type": "code",
   "execution_count": 43,
   "metadata": {},
   "outputs": [
    {
     "data": {
      "image/png": "[encoded data removed]",
      "text/plain": [
       "<Figure size 432x288 with 1 Axes>"
      ]
     },
     "metadata": {
      "needs_background": "light"
     },
     "output_type": "display_data"
    }
   ],
   "source": [
    "mannwhitneyu=fpkm.loc[['SFTA2', 'RAET1L', 'CTD-2147F2.1', 'LINC00460', 'AC007128.1', 'RP5-884M6.1', 'VAC14-AS1', 'RP11-399O19.9', 'CST1', 'LINC00858']].T\n",
    "sns.violinplot(data=mannwhitneyu)\n",
    "plt.xticks(rotation=30)\n",
    "plt.tight_layout()"
   ]
  },
  {
   "cell_type": "markdown",
   "metadata": {},
   "source": [
    "## Problem 5"
   ]
  },
  {
   "cell_type": "code",
   "execution_count": 46,
   "metadata": {},
   "outputs": [],
   "source": [
    "with open('all_genes.txt', 'r') as file:\n",
    "    file = file.read().splitlines()\n",
    "    genes = random.sample(file, 1000)"
   ]
  },
  {
   "cell_type": "code",
   "execution_count": 47,
   "metadata": {},
   "outputs": [
    {
     "name": "stdout",
     "output_type": "stream",
     "text": [
      "['KLHL41', 'IGHD2-15', 'KNOP1', 'RP13-34L8.8', 'CTD-2278I10.4', 'PTK7', 'SPTLC1P5', 'MAP2K4', 'RP11-145E17.2', 'CTD-2254N19.1', 'TCEAL7', 'EXOC3', 'RP11-354H21.2', 'SLC46A2', 'RP11-317N8.4', 'NUTF2P5', 'IGSF23', 'KLF2P2', 'AC109351.1', 'FBXO25', 'AC092662.6', 'RP11-357N13.2', 'PIWIL3', 'RN7SL267P', 'RP11-420K14.2', 'OR2J2', 'RP11-124D2.7', 'AP002498.1', 'CICP14', 'GALK2', 'RP11-308D16.1', 'KCNA2', 'DAZ4', 'SPOCD1', 'SAA1', 'GNG4', 'ZNF260', 'RP11-227P3.1', 'PRRG4', 'HSD3B2', 'RP11-502M1.2', 'TGM3', 'RNU4-25P', 'TRIM53CP', 'RP11-449D8.3', 'LSM2', 'RP11-5K16.3', 'RP11-154F14.3', 'NRROS', 'FAM83A-AS1', 'MAGI2-IT1', 'RP11-491H9.4', 'RP11-1113N2.4', 'RNU6-1024P', 'RP11-568G20.2', 'RP11-38L15.3', 'CTA-992D9.10', 'RP11-60C6.3', 'CLTCL1', 'PRND', 'RPL15P3', 'AC068580.1', 'REM2', 'SEMA6A', 'CD99', 'PPIAP31', 'RNU6-749P', 'PPARGC1A', 'SMARCA5', 'RP11-16N2.1', 'SFXN3', 'ASIC1', 'RP11-367G18.1', 'RNU4ATAC16P', 'CTD-2530H12.7', 'RP11-568J23.8', 'RP4-737E23.5', 'LIN28AP1', 'SNORA80A', 'SNF8', 'RP11-96K19.2', 'RP11-618K13.2', 'RP11-278A23.1', 'ATP8A2P3', 'FRMPD4', 'RP11-568A7.3', 'NME8', 'HIGD1AP8', 'RP11-262A16.1', 'CD46P1', 'FAM71E1', 'EVX1', 'FP325318.1', 'ST8SIA6-AS1', 'DUXAP7', 'RNA5SP268', 'AC145141.2', 'SH3GL2', 'CCSER2', 'SLC38A2', 'FLVCR2', 'RNF41', 'DXO', 'KLHDC8B', 'THUMPD2', 'AC144449.1', 'CAB39L', 'MIR548AG2', 'MIR658', 'CTD-2562G15.3', 'RP11-46P12.1', 'RP11-344E13.4', 'MIR6857', 'DRGX', 'RP11-386D6.3', 'RP11-124N14.3', 'RP3-334F4.1', 'SLC22A12', 'RP11-739N10.1', 'XXbac-B444P24.14', 'NEFHP1', 'RNU6-513P', 'RP11-17A4.2', 'BET1L', 'AC009892.9', 'RP11-616K22.1', 'RP11-285G1.15', 'RP11-267J23.1', 'LINC00444', 'TRAPPC2P7', 'MIR3689C', 'RP11-473C18.3', 'RP11-475J5.5', 'IGFBP5', 'RP11-80F22.5', 'MIR4441', 'IAH1', 'LINC00029', 'GLO1', 'AC009518.8', 'TMEM150A', 'AC009120.8', 'RP11-311H10.4', 'CLEC1B', 'NXF4', 'HEBP1', 'OR5AK4P', 'LELP1', 'OR7E2P', 'GS1-124K5.9', 'SGCG', 'OAF', 'FAM173B', 'SOCS3', 'AC008834.1', 'PRR20B', 'RP11-63H19.5', 'RPL6P30', 'RP11-961A15.3', 'KRT17', 'HP09025', 'RN7SKP68', 'PHYHIP', 'AC005538.5', 'PLEKHA3P1', 'RP11-662B19.2', 'C2orf88', 'AC068831.17', 'RP11-4M23.4', 'TRIM51', 'FBXO18', 'NEK4P3', 'RNA5SP429', 'AC099537.1', 'DAOA', 'RP11-78J21.4', 'RP11-342A1.1', 'DPT', 'JPH3', 'RP1-17K7.1', 'RP11-399E6.4', 'ZNF735', 'LL22NC03-23C6.13', 'AP004289.2', 'CTB-113I20.1', 'RP11-386D6.1', 'CLK4', 'SLC9A9-AS1', 'KIF2A', 'PRDM10', 'TMEM30C', 'RN7SL25P', 'PLA2G12AP1', 'CTD-2540L5.9', 'RNU2-44P', 'RP5-988G15.1', 'WBP1LP1', 'AC017104.3', 'ABCB11', 'AC018693.5', 'RNU4ATAC2P', 'RNF113A', 'RP13-39P12.2', 'TTLL8', 'PIKFYVE', 'MIR3137', 'NMRK2', 'RP11-779P15.2', 'ABCE1', 'MECP2', 'RP11-94I2.4', 'ALDH1A2', 'AC009502.1', 'RP11-203E8.1', 'RPL7P27', 'MIR4648', 'RNU6-247P', 'RP11-466A19.8', 'CTC-338M12.6', 'RP11-158C21.2', 'RP11-478C6.6', 'NCOA3', 'SNORA7B', 'ZRANB1', 'CTD-3096M3.2', 'GSDMB', 'RP11-65N13.6', 'CTD-2151A2.2', 'PGAM5P1', 'PCDHB4', 'RP11-70D24.1', 'CLIP1-AS1', 'SLC2A9', 'LRRC34', 'SLMO2P3', 'IGHJ2', 'ADAM32', 'ARRDC4', 'COL15A1', 'HMGA1P3', 'FOLH1B', 'NDUFV3', 'RP11-840I19.5', 'RP11-356M6.1', 'RP11-400K9.2', 'RP11-107N15.1', 'BAZ1A', 'C2orf27AP1', 'GAS5', 'ARHGEF9-IT1', 'LINC00332', 'EDN3', 'GS1-358P8.4', 'KDM3A', 'CTC-367F4.1', 'AC013734.1', 'OR8K4P', 'RP11-140K17.2', 'RN7SL479P', 'MIR4709', 'CTD-2369P2.8', 'RNA5SP307', 'EXD2', 'TPTE2P2', 'MIR143', 'RP11-481F24.3', 'RP11-683L23.1', 'ANKFN1', 'TERF1P5', 'RP5-874C20.7', 'DEFB103B', 'RP11-790I12.4', 'GSDMC', 'MICA', 'RN7SL604P', 'RP11-399F2.2', 'AC091185.1', 'PON3', 'RP3-461P17.10', 'CTD-2515C13.1', 'SCGB3A2', 'RP11-32B5.1', 'RP11-167P22.5', 'C12orf56', 'RP4-598P13.1', 'TBC1D7', 'RPS2P5', 'RP4-730D4.1', 'HMGB1P9', 'CTB-75G16.1', 'AC004938.5', 'MCHR2', 'PRB4', 'RP11-474G23.3', 'CCT8L2', 'AC097495.2', 'WBSCR22', 'LRRC52', 'RP11-774O3.2', 'GAL3ST1', 'RP1-241P17.4', 'RP11-324I22.3', 'OSGEPL1-AS1', 'MCCC2', 'HOXA3', 'CDH8', 'RP11-398M15.1', 'OTOS', 'RP11-147L13.11', 'EEF1A1P38', 'ATP6V1F', 'RP11-844G16.3', 'KCNH7', 'LLNLR-268E12.1', 'RP11-98C8.1', 'RP13-30A9.2', 'RP11-382A20.6', 'RN7SL788P', 'CHIC2', 'MIR137HG', 'AC016700.5', 'RP11-30K9.4', 'RP13-539J13.1', 'CAMTA2', 'L34079.2', 'MAGEB18', 'ST7-OT4_3', 'PARP9', 'MTOR', 'RP11-543F8.3', 'UMOD', 'MIR6715A', 'ZFAND4', 'WWOX', 'PCSK5', 'HNRNPU-AS1', 'RP1-78B3.1', 'TRABD2A', 'RP3-525N10.2', 'HERC2', 'RP11-566F5.1', 'WASH3P', 'RP11-445P17.6', 'EFTUD1P2', 'RP11-136K7.2', 'AC007136.1', 'RNU6ATAC10P', 'RP11-565F19.4', 'WNT5A', 'OR13Z3P', 'RP11-856M7.7', 'A2M', 'SNORD116-20', 'AC138031.1', 'XXbac-BPG181B23.7', 'ARL2BPP1', 'TLR7', 'RP11-108M9.3', 'STOML2', 'SMG1P5', 'MARCH8', 'RPS27P16', 'LINC01235', 'LCE1F', 'XRCC2', 'NSMCE2', 'OR8H3', 'TMEM120A', 'ZNF733P', 'RP11-292B1.2', 'IGSF9B', 'SNX15', 'RNU6-824P', 'LINC00555', 'GCNT3', 'RP11-85A1.3', 'SETP2', 'MEIS3', 'GCOM1', 'RPL5P1', 'ANAPC16', 'WBP1LP3', 'RP11-551L14.1', 'RP3-431P23.2', 'AC068446.1', 'TRAPPC2P3', 'ARHGEF33', 'RNF123', 'RP11-313P13.5', 'MCTS2P', 'DDX4', 'AC079753.4', 'RP11-402J7.2', 'RP11-395F4.1', 'PIK3CG', 'AL080285.1', 'AL596330.1', 'KCNQ1DN', 'AL713999.1', 'MIR4650-1', 'FGFR1OP2P1', 'DNAAF1', 'RP11-185J20.2', 'ABL1', 'RP11-20G13.1', 'BRD7P1', 'RP11-473I1.6', 'AC011242.5', 'GS1-164F24.1', 'RP11-1114A5.4', 'RP11-132A1.6', 'CTB-120L21.1', 'MIR490', 'AC060834.3', 'GINS4', 'CYP51A1', 'RP11-813I20.2', 'TBCC', 'PFN3', 'RP11-206P5.1', 'ACSL1', 'EEF1A1P28', 'PGAM2', 'RP4-669P10.19', 'GPAA1', 'RNF19BPX', 'AP000568.2', 'MRPL39', 'RP11-820I16.2', 'RP11-454P7.1', 'RNU6-3P', 'ZNF674-AS1', 'DPPA2P2', 'IGHD4OR15-4B', 'AC013437.4', 'RP11-321P16.1', 'DLX1', 'GADD45GIP1', 'PPP2R2A', 'RP11-256K9.1', 'SNORA71A', 'SEC11C', 'MCCD1', 'RP11-452H21.4', 'RP11-351O1.4', 'RP3-453I5.2', 'AC090692.1', 'C19orf12', 'RNU2-62P', 'RP11-358B23.7', 'RP5-940J5.9', 'RP11-51C14.1', 'RPL31P2', 'RN7SKP287', 'RP11-128A6.3', 'RP11-788M5.3', 'CTD-2385L22.1', 'RP11-139H15.6', 'HSF2BP', 'KDM4E', 'AP001107.1', 'MIR6800', 'GLIDR', 'ARHGAP4', 'RNU1-128P', 'MIR409', 'RP11-182J1.5', 'RHCG', 'TBC1D3L', 'SMIM13', 'TUFMP1', 'ABCA17P', 'C20orf202', 'RP11-89F3.2', 'DEFB134', 'DGCR14', 'RNU4ATAC11P', 'AC009729.1', 'RP5-930J4.2', 'RP5-1112D6.7', 'TMEM102', 'AC008737.1', 'RP11-771F20.1', 'RNU2-20P', 'ZNF432', 'RP13-614K11.2', 'RP11-76E17.3', 'C4orf48', 'SERPINI2', 'KIR2DL3', 'ADAM1B', 'RP11-946P6.4', 'MIR7853', 'LIN54', 'ATP5A1P7', 'RP11-91K11.2', 'CTB-35F21.1', 'RP3-446N13.5', 'PKD1P6', 'CYB5R4', 'HBB', 'RP11-556N21.1', 'SLITRK6', 'RP11-226F19.1', 'RN7SL32P', 'RP1-154J13.3', 'RP11-488I20.5', 'GAGE12D', 'RP11-1099M24.8', 'CTB-55O6.8', 'RP11-297L17.2', 'ANKRD30A', 'SCARNA12', 'VCY1B', 'RP11-53B2.2', 'RP11-688I9.2', 'RP11-100F15.2', 'RPL21P136', 'NARF', 'TRIM63', 'KDM5B', 'TMEM64', 'PTN', 'AC096649.4', 'RAB24', 'RPL21P33', 'GSTM2P1', 'MLLT6', 'WFDC21P', 'GAR1', 'RP11-83A16.1', 'TMEM246', 'MIR30D', 'RP11-483E23.5', 'CHL1-AS2', 'RP11-545M17.2', 'RP11-460B17.1', 'GFRA3', 'RP11-556O9.3', 'RP11-126O1.6', 'AC012123.1', 'TAS2R2P', 'RNU6-534P', 'RP11-368J22.2', 'AK4P3', 'MIR5006', 'TMC2', 'RP11-534C12.1', 'RNU6-501P', 'RP11-104D21.1', 'FAM47A', 'GRPEL2', 'RP13-20L14.4', 'RPL7P6', 'MIR548H5', 'ZNF653', 'ZNF736P4Y', 'RPAP1', 'AMER2', 'RP11-10C24.1', 'NPM1P30', 'RP11-78F17.3', 'CTD-2325B11.1', 'Six3os1_3', 'DPPA2', 'TCTN1', 'TAF11', 'SCHLAP1', 'MTND4P23', 'RP4-676J13.2', 'AC098869.1', 'RNA5SP264', 'TRAJ27', 'RNU1-123P', 'C1orf177', 'AC004156.3', 'AL592546.1', 'F5', 'C11orf16', 'RP11-91K8.4', 'KCNMB3', 'CTD-3074O7.5', 'CTC-281F24.2', 'SRSF3', 'DNM1P32', 'RP11-319C21.1', 'MIR3148', 'LINC00891', 'RSAD2', 'TOMM70A', 'AC104389.28', 'RNU4-27P', 'AC006026.1', 'WDR45B', 'INVS', 'GPALPP1', 'TMEM185AP1', 'APOBEC3B-AS1', 'RN7SL776P', 'RP11-16C18.3', 'PAQR3', 'CTAGE9', 'BTBD7', 'AC090559.1', 'ZDHHC8', 'RP11-62L10.1', 'ZNF385A', 'CRTAC1', 'GCKR', 'RP11-74M13.4', 'EXT2', 'RP11-395A13.2', 'ZNF17', 'ZNF43', 'AC110086.1', 'CASZ1', 'LYPLA1P2', 'POLH', 'RNU6-829P', 'AC009336.1', 'WDR4', 'MIR6882', 'AC009022.1', 'SYT2', 'RP5-968J1.1', 'MDH1', 'ZNF192P1', 'RP11-134O21.1', 'CTD-2320B12.1', 'KRT18P44', 'TMEM87B', 'HOXD8', 'AC062020.2', 'RP11-379H18.1', 'HLA-B', 'RNU6-241P', 'RP11-98D18.3', 'RP11-243A14.1', 'PINK1-AS', 'RP11-6O2.3', 'UQCR10', 'CLEC7A', 'AC093724.2', 'SYNE3', 'RP11-686D22.6', 'IRX1', 'RNU6ATAC9P', 'RP11-326C3.10', 'KRT18P37', 'MIR8070', 'RP11-455F5.5', 'VTI1A', 'RP11-1049A21.2', 'RP11-248G5.8', 'SUV39H1', 'CTD-2308B18.1', 'RP1-225E12.3', 'RRP1', 'RNU6-429P', 'RP11-382B18.3', 'UBQLN1', 'AC007403.3', 'RP11-379H8.1', 'SCN1A', 'OOSP1P2', 'C7orf31', 'RP11-616M22.9', 'PTGES3P3', 'AC007557.3', 'SPRR2B', 'FGGY', 'SLC17A7', 'OR9H1P', 'RP11-90D4.4', 'ESYT3', 'APC', 'ASS1P10', 'AC008562.1', 'RP11-802O23.3', 'RP11-1035H13.2', 'USMG5', 'ZNF860', 'SNORA4', 'AKR1E2', 'FAM86B1', 'SLC10A5P1', 'USP6', 'JUNB', 'RP5-1047A19.6', 'CTD-2311A18.1', 'RP11-593F5.1', 'RP11-6N13.4', 'RPL7P40', 'RP1-41C23.2', 'RNU6-1321P', 'AC010761.14', 'SETP8', 'RP11-486O13.4', 'RP11-17G12.3', 'CTD-2192J16.20', 'RP11-535C21.3', 'RP11-342F17.2', 'RNU6-373P', 'RPS17P2', 'NOL9', 'OR7E11P', 'BRDT', 'RP11-143N13.3', 'PSMA6', 'RP11-310I24.1', 'RP5-940J5.8', 'CYCSP28', 'RP11-58G13.1', 'MIR1276', 'AC005255.3', 'CACNA1I', 'ADAM20P3', 'TRPV1', 'RPS3AP12', 'RP11-572M11.3', 'RPL17P19', 'AC140481.4', 'NRADDP', 'RP5-894A10.6', 'AC012360.4', 'FABP5P10', 'FAM45B', 'RP4-620E11.4', 'AC013268.4', 'OR14I1', 'CTD-2194D22.3', 'RP11-791N19.1', 'AC012671.1', 'MB', 'GPR22', 'MYCBP2', 'CAPG', 'AC074389.5', 'ZP2', 'BCCIP', 'EPB41L4A-AS1', 'ANKRD65', 'AL589947.1', 'PDCL', 'PIK3IP1-AS1', 'RNU6-939P', 'SF3B3', 'AP000679.2', 'RP11-21G15.1', 'NFIA-AS2', 'SPATA2', 'RP11-862G15.1', 'CERS3-AS1', 'RP11-104H15.8', 'DRD2', 'RP11-731F5.1', 'RNU6-1174P', 'RP11-580I1.1', 'MORF4L1P7', 'RNU6-139P', 'RP11-561O23.7', 'AC012507.3', 'WI2-1896O14.1', 'RP11-488I20.9', 'SCAMP1-AS1', 'LINC00861', 'RP11-571L19.8', 'RP11-631M21.6', 'RP11-462G12.1', 'KDM4C', 'AC064874.1', 'AF064860.7', 'RP4-621B10.8', 'ZNF566', 'AC079199.2', 'MRPL9', 'LCE1B', 'RP11-351I24.3', 'KB-1027C11.4', 'LINC00391', 'TCF7L1', 'RPS3AP44', 'MRPS22', 'MIR4753', 'GJB4', 'AC144831.3', 'RNA5SP95', 'GPR137C', 'ABI1', 'RNU6-745P', 'ANKRD33B-AS1', 'MST1P2', 'HNRNPMP2', 'RP11-665C16.6', 'TAAR5', 'HIGD1A', 'RP11-382A20.4', 'CTD-2623N2.11', 'NKAPP1', 'U91328.21', 'DTX2P1-UPK3BP1-PMS2P11', 'FNDC3B', 'RP11-548K12.8', 'AC093906.1', 'TUBB4BP2', 'ZNF736P5Y', 'RN7SKP5', 'TLX3', 'AKTIP', 'RP11-463J7.2', 'MROH3P', 'PCDHGA6', 'AC005625.1', 'TMEM138', 'RP1-100J12.1', 'AC099799.1', 'MUC5B', 'AC073325.1', 'RP1-130L23.1', 'AMY1B', 'PRH1', 'RP4-769N13.6', 'RP11-384F7.1', 'CTD-2031P19.4', 'AC113607.3', 'POU3F4', 'ITIH4-AS1', 'AGXT2', 'JAKMIP2', 'AL390776.1', 'RNU7-52P', 'PTH', 'PTTG2', 'RBMY1KP', 'RP11-113K21.3', 'CTD-2110K23.1', 'KB-1562D12.2', 'CTD-2373J6.1', 'NUDT12', 'MESP2', 'STX1A', 'BCAR1P1', 'URB1', 'SF3A2', 'ARL5C', 'MIR3164', 'WT1-AS_1', 'PAIP2B', 'C19orf83', 'RP11-226L15.1', 'PAICSP2', 'RNU6-436P', 'RP11-517H2.6', 'RP11-1079H9.1', 'RP11-798G7.7', 'IGHD4-4', 'ARHGEF7-IT1', 'API5P2', 'SBSN', 'POLR3KP1', 'RP11-648L3.2', 'RNA5SP111', 'ZNF519P4', 'RNU6-615P', 'AMACR', 'ATG5', 'CTD-2343P13.1', 'HACL1', 'KIR3DL1', 'RP11-348H3.2', 'WWP1P1', 'RP11-644F5.17', 'RP11-629O1.2', 'ELMO2', 'LHFP', 'RP11-832A4.7', 'PRIMPOL', 'RP11-810O3.2', 'GAPDHP20', 'OR51S1', 'RP11-261C10.5', 'RP11-255E6.5', 'ROBO4', 'HMGB3P5', 'AL591704.7', 'RP6-166C19.12', 'RP11-356M20.2', 'SDHCP1', 'DACH2', 'CTC-534B23.1', 'ZFX-AS1', 'PTH2', 'AC100757.1', 'RP4-566L20.1', 'ZBTB34', 'CHMP1B', 'RP11-329A6.1', 'DRICH1', 'PLA2G12AP2', 'RNU6-620P', 'CTD-2510F5.2', 'LINC00682', 'AP002806.1', 'RP5-1116H23.4', 'RP11-265N6.2', 'KCNK4', 'KRT18P47', 'MIR148A', 'AKT3-IT1', 'RN7SKP192', 'RNU6-541P', 'EED', 'GOLGA7B', 'MIR151B', 'CEACAMP10', 'RP11-392B6.1', 'AC009892.2', 'IGHVII-74-1', 'MIR660', 'RP11-1023P17.2', 'DLGAP1-AS5', 'AC005779.2', 'AP001042.1', 'AF131215.2', 'IQCG', 'MIR519E', 'AC006116.20', 'RN7SKP277', 'RP1-4G17.2', 'AC007326.10', 'RP5-935K16.2', 'RP11-432N13.2', 'ABCF2P1', 'NT5CP2', 'SUCLG1', 'HIGD1AP4', 'RNU6-471P', 'RP1', 'LINC01020', 'RNU6-495P', 'IDUA', 'RP5-905H7.11', 'AL512290.1', 'RP11-500M10.1', 'RP11-473N11.2', 'KYNU', 'AC010203.1', 'RP11-170M17.1', 'ZCCHC4', 'NPM1P37', 'SLC6A4', 'CTA-444M12.3', 'RP11-895M11.3', 'RNU6-1328P', 'IGLVV-58', 'RN7SL709P', 'DIO3OS', 'RPL7P42', 'RP11-347H15.2', 'MIR3916', 'SOX3', 'EIF2B1', 'CCL27', 'PFN1P7', 'FAM90A17P', 'ZFR', 'RNU7-141P', 'OR6C2', 'TRAV8-4', 'AC073464.11', 'LRRC63', 'HIST2H2BE', 'NAGPA', 'RP11-239C9.1', 'MRPL57', 'ZNF716', 'RP11-17M24.1', 'CTD-2215L10.1', 'ASNA1', 'RP4-640H8.2', 'AC007682.4', 'XXbac-BPG248L24.13', 'CDCA8', 'RP11-528M18.3', 'RP11-524L6.4', 'TRAJ13', 'FAM214A', 'RP11-556I14.1', 'RP11-481A20.8', 'AC078899.1', 'CTC-1337H24.4', 'MIR101-1', 'TEKT4', 'RPS3AP4', 'IGKV3OR2-5', 'RPL35P6', 'RP11-1084J3.1', 'MSANTD1', 'RPL32', 'C1orf109']\n"
     ]
    }
   ],
   "source": [
    "print(genes)\n",
    "genes5 = open('genes5.txt', 'w')\n",
    "for gene in genes:\n",
    "    genes5.write(gene + '\\n')\n",
    "genes5.close()"
   ]
  }
 ],
 "metadata": {
  "kernelspec": {
   "display_name": "Python 3",
   "language": "python",
   "name": "python3"
  },
  "language_info": {
   "codemirror_mode": {
    "name": "ipython",
    "version": 3
   },
   "file_extension": ".py",
   "mimetype": "text/x-python",
   "name": "python",
   "nbconvert_exporter": "python",
   "pygments_lexer": "ipython3",
   "version": "3.7.4"
  }
 },
 "nbformat": 4,
 "nbformat_minor": 2
}
