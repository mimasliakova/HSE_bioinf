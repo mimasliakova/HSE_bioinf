{
 "cells": [
  {
   "cell_type": "markdown",
   "metadata": {},
   "source": [
    "## Problem 4"
   ]
  },
  {
   "cell_type": "code",
   "execution_count": 82,
   "metadata": {},
   "outputs": [],
   "source": [
    "import matplotlib.pyplot as plt\n",
    "import seaborn as sns\n",
    "import pandas as pd\n",
    "import numpy as np\n",
    "from scipy.stats import ttest_rel, ttest_ind, shapiro, norm"
   ]
  },
  {
   "cell_type": "code",
   "execution_count": 25,
   "metadata": {},
   "outputs": [
    {
     "name": "stdout",
     "output_type": "stream",
     "text": [
      "5067\n"
     ]
    }
   ],
   "source": [
    "df = pd.read_csv('colon_cancer_tumor_vs_normal_paired_FPKM.tsv', sep = '\\t', index_col = 0)\n",
    "mean_cancer = df.iloc[:, :5].mean(axis = 1)\n",
    "mean_normal = df.iloc[:, 5:10].mean(axis = 1)\n",
    "df['LFC'] = mean_cancer - mean_normal\n",
    "df = df.sort_values('LFC')\n",
    "df['p-value_rel'] = [ttest_rel(df.loc[gene].iloc[0:5], df.loc[gene].iloc[5:10])[1] for gene in df.index]\n",
    "df = df.sort_values('p-value_rel')\n",
    "print(sum(df['p-value_rel'] < 0.05))"
   ]
  },
  {
   "cell_type": "code",
   "execution_count": 36,
   "metadata": {},
   "outputs": [
    {
     "name": "stdout",
     "output_type": "stream",
     "text": [
      "['TMEM100' 'GSTM2' 'ITM2A' 'GREM2' 'RNF112' 'SHE' 'SPTBN2' 'ZNF10'\n",
      " 'INAFM2' 'HAPLN3']\n"
     ]
    }
   ],
   "source": [
    "df = df.sort_values('p-value_rel')\n",
    "df_diff_10rel = df.head(10)\n",
    "print(df_diff_10rel.index.values)"
   ]
  },
  {
   "cell_type": "code",
   "execution_count": 26,
   "metadata": {},
   "outputs": [
    {
     "name": "stdout",
     "output_type": "stream",
     "text": [
      "5516\n"
     ]
    }
   ],
   "source": [
    "df['p-value_ind'] = [ttest_ind(df.loc[gene].iloc[0:5], df.loc[gene].iloc[5:10])[1] for gene in df.index]\n",
    "df = df.sort_values('p-value_ind')\n",
    "print(sum(df['p-value_ind'] < 0.05))"
   ]
  },
  {
   "cell_type": "code",
   "execution_count": 37,
   "metadata": {},
   "outputs": [
    {
     "name": "stdout",
     "output_type": "stream",
     "text": [
      "['VWA2' 'RP11-345P4.9' 'RNF112' 'SPTBN2' 'ITM2A' 'WNT2' 'RP11-474D1.3'\n",
      " 'PPAP2A' 'FBLIM1' 'ESM1']\n"
     ]
    }
   ],
   "source": [
    "df = df.sort_values('p-value_ind')\n",
    "df_diff_10ind = df.head(10)\n",
    "print(df_diff_10ind.index.values)"
   ]
  },
  {
   "cell_type": "code",
   "execution_count": 38,
   "metadata": {},
   "outputs": [
    {
     "name": "stdout",
     "output_type": "stream",
     "text": [
      "['ITM2A', 'SPTBN2', 'RNF112']\n",
      "3\n"
     ]
    }
   ],
   "source": [
    "same_genes = list(set(df_diff_10rel.index.values) & set(df_diff_10ind.index.values))\n",
    "print(same_genes)\n",
    "print(len(same_genes))"
   ]
  },
  {
   "cell_type": "markdown",
   "metadata": {},
   "source": [
    "## Problem 5"
   ]
  },
  {
   "cell_type": "code",
   "execution_count": 62,
   "metadata": {},
   "outputs": [
    {
     "name": "stdout",
     "output_type": "stream",
     "text": [
      "          TCGA-3C-AAAU-01A  TCGA-3C-AALI-01A  TCGA-3C-AALJ-01A  \\\n",
      "MTATP6P1          8.375790          8.022645          8.977163   \n",
      "FOXA1             6.000547          6.096127          5.731366   \n",
      "SPDEF             6.972295          7.975208          6.539249   \n",
      "STRAP             5.715839          5.338570          5.726425   \n",
      "GATA3             7.747937          6.737191          7.262471   \n",
      "...                    ...               ...               ...   \n",
      "KPNB1             5.498088          4.852279          5.745564   \n",
      "PLXNB2            5.840701          5.775534          5.101654   \n",
      "AUP1              5.169501          6.462459          6.275557   \n",
      "JUN               5.627749          5.397712          5.208758   \n",
      "MAL2              4.420373          4.821104          5.125098   \n",
      "\n",
      "          TCGA-3C-AALK-01A  TCGA-4H-AAAK-01A  TCGA-5L-AAT0-01A  \\\n",
      "MTATP6P1          9.167840          7.759244          8.866512   \n",
      "FOXA1             6.399916          6.357260          6.154791   \n",
      "SPDEF             7.312027          6.895494          6.487525   \n",
      "STRAP             5.762643          5.367695          4.891507   \n",
      "GATA3             7.022234          7.751686          7.886739   \n",
      "...                    ...               ...               ...   \n",
      "KPNB1             4.525869          5.222544          4.984170   \n",
      "PLXNB2            6.424362          5.974668          5.779625   \n",
      "AUP1              5.620807          4.958625          5.494332   \n",
      "JUN               5.837245          5.873427          4.915925   \n",
      "MAL2              5.556969          6.491934          6.149702   \n",
      "\n",
      "          TCGA-5L-AAT1-01A  TCGA-5T-A9QA-01A  TCGA-A1-A0SB-01A  \\\n",
      "MTATP6P1          8.275243          9.182022          7.733468   \n",
      "FOXA1             6.316335          6.882983          2.886085   \n",
      "SPDEF             7.025683          8.833051          4.987493   \n",
      "STRAP             5.899687          6.448435          5.798175   \n",
      "GATA3             6.627608          7.963512          3.404955   \n",
      "...                    ...               ...               ...   \n",
      "KPNB1             4.966896          5.462076          5.116537   \n",
      "PLXNB2            6.386582          6.624947          6.094218   \n",
      "AUP1              5.176835          5.925187          4.455181   \n",
      "JUN               5.553256          3.769042          7.512802   \n",
      "MAL2              5.074370          5.850458          3.632819   \n",
      "\n",
      "          TCGA-A1-A0SD-01A  ...  TCGA-A2-A1FV-01A  TCGA-A2-A1FW-01A  \\\n",
      "MTATP6P1          8.515408  ...          9.704972          8.885532   \n",
      "FOXA1             6.620378  ...          6.994448          7.467577   \n",
      "SPDEF             6.927358  ...          5.885360          7.294057   \n",
      "STRAP             5.873879  ...          6.300488          6.181247   \n",
      "GATA3             7.743069  ...          8.731857          8.901328   \n",
      "...                    ...  ...               ...               ...   \n",
      "KPNB1             5.336652  ...          5.498981          5.208755   \n",
      "PLXNB2            5.108800  ...          5.203284          5.440162   \n",
      "AUP1              5.651148  ...          4.318242          5.355422   \n",
      "JUN               5.493493  ...          5.702566          4.194090   \n",
      "MAL2              5.506805  ...          6.523362          6.695831   \n",
      "\n",
      "          TCGA-A2-A1FX-01A  TCGA-A2-A1FZ-01A  TCGA-A2-A1G0-01A  \\\n",
      "MTATP6P1          7.506634          8.010383          7.892514   \n",
      "FOXA1             6.111555          7.208728          6.197202   \n",
      "SPDEF             6.439503          6.076395          6.467889   \n",
      "STRAP             5.785423          5.664237          5.409986   \n",
      "GATA3             7.913987          7.897358          7.595581   \n",
      "...                    ...               ...               ...   \n",
      "KPNB1             5.373419          4.966491          5.519134   \n",
      "PLXNB2            5.362714          6.040196          6.030706   \n",
      "AUP1              5.166975          5.043622          5.291612   \n",
      "JUN               5.204352          6.737673          6.342300   \n",
      "MAL2              6.489016          5.461781          6.139718   \n",
      "\n",
      "          TCGA-A2-A1G1-01A  TCGA-A2-A1G4-01A  TCGA-A2-A1G6-01A  \\\n",
      "MTATP6P1          8.154875          8.959372          7.698324   \n",
      "FOXA1             0.891213          7.021651          6.080848   \n",
      "SPDEF             0.093700          6.571943          6.342821   \n",
      "STRAP             8.295332          6.330154          5.793242   \n",
      "GATA3             3.917902          8.201851          6.413810   \n",
      "...                    ...               ...               ...   \n",
      "KPNB1             6.052725          5.672212          4.740176   \n",
      "PLXNB2            5.690118          6.060835          4.972119   \n",
      "AUP1              5.471918          5.403459          5.100214   \n",
      "JUN               3.975800          3.250825          5.964772   \n",
      "MAL2              7.198546          8.700178          5.597832   \n",
      "\n",
      "          TCGA-A2-A259-01A       p-value  \n",
      "MTATP6P1          9.560098  1.443983e-12  \n",
      "FOXA1             5.901050  1.539059e-12  \n",
      "SPDEF             5.487067  4.553172e-11  \n",
      "STRAP             5.875090  2.446469e-10  \n",
      "GATA3             7.364651  3.916180e-10  \n",
      "...                    ...           ...  \n",
      "KPNB1             5.673770  9.866257e-01  \n",
      "PLXNB2            5.214985  9.867211e-01  \n",
      "AUP1              5.011626  9.892077e-01  \n",
      "JUN               5.591261  9.914337e-01  \n",
      "MAL2              8.147046  9.926235e-01  \n",
      "\n",
      "[1000 rows x 101 columns]\n",
      "56.89999999999999\n"
     ]
    }
   ],
   "source": [
    "df_bc = pd.read_csv('breast_cancer_1000_genes.tsv', sep = '\\t', index_col = 0) \n",
    "df_bc['p-value'] = [shapiro(df_bc.loc[gene])[1] for gene in df_bc.index]\n",
    "df_bc = df_bc.sort_values('p-value')\n",
    "print(df_bc)\n",
    "print((sum(df_bc['p-value'] > 0.05)/1000) * 100)"
   ]
  },
  {
   "cell_type": "markdown",
   "metadata": {},
   "source": [
    "## Problem 2"
   ]
  },
  {
   "cell_type": "code",
   "execution_count": 92,
   "metadata": {},
   "outputs": [
    {
     "name": "stdout",
     "output_type": "stream",
     "text": [
      "Ttest_relResult(statistic=6.144535714676592, pvalue=2.542301726929219e-05)\n",
      "Ttest_indResult(statistic=1.0730695606667098, pvalue=0.2924014294943321)\n"
     ]
    }
   ],
   "source": [
    "x = [201, 205, 193, 182, 259, 239, 164, 197, 222, 211, 187, 176, 186, 243, 246]\n",
    "y = [197, 195, 191, 174, 236, 226, 157, 196, 201, 196, 181, 164, 181, 229, 231]\n",
    "print(ttest_rel(x, y))\n",
    "print(ttest_ind(x, y))"
   ]
  },
  {
   "cell_type": "code",
   "execution_count": 141,
   "metadata": {},
   "outputs": [
    {
     "name": "stdout",
     "output_type": "stream",
     "text": [
      "Ttest_relResult(statistic=-inf, pvalue=0.0)\n",
      "Ttest_indResult(statistic=-1.3093073414159542, pvalue=0.20282744918238085)\n"
     ]
    }
   ],
   "source": [
    "x = [3, 4, 5, 6, 7, 8, 9, 10, 11, 12, 13, 14, 15]\n",
    "y = [5, 6, 7, 8, 9, 10, 11, 12, 13, 14, 15, 16, 17]\n",
    "print(ttest_rel(x, y))\n",
    "print(ttest_ind(x, y))"
   ]
  },
  {
   "cell_type": "markdown",
   "metadata": {},
   "source": [
    "## Problem 3"
   ]
  },
  {
   "cell_type": "code",
   "execution_count": 144,
   "metadata": {},
   "outputs": [
    {
     "name": "stdout",
     "output_type": "stream",
     "text": [
      "Ttest_relResult(statistic=1.4288690166235203, pvalue=0.16592888212887097)\n",
      "Ttest_indResult(statistic=2.02072594216369, pvalue=0.04890584852683287)\n"
     ]
    }
   ],
   "source": [
    "x1 = [10, 10, 10, 10, -10, 10, 10, 10, 10, 10, 10, -10, -10, 10, -10, -10, -10, 10, -10, -10, 10, 10, -10, 10, 10] \n",
    "y1 = [-10, -10, -10, -10, 10, -10, -10, -10, -10, -10, -10, 10, 10, -10, 10, 10, 10, -10, 10, 10, -10, -10, 10, -10, -10]\n",
    "print(ttest_rel(x1, y1))\n",
    "print(ttest_ind(x1, y1))"
   ]
  },
  {
   "cell_type": "code",
   "execution_count": null,
   "metadata": {},
   "outputs": [],
   "source": []
  }
 ],
 "metadata": {
  "kernelspec": {
   "display_name": "Python 3",
   "language": "python",
   "name": "python3"
  },
  "language_info": {
   "codemirror_mode": {
    "name": "ipython",
    "version": 3
   },
   "file_extension": ".py",
   "mimetype": "text/x-python",
   "name": "python",
   "nbconvert_exporter": "python",
   "pygments_lexer": "ipython3",
   "version": "3.7.4"
  }
 },
 "nbformat": 4,
 "nbformat_minor": 2
}
